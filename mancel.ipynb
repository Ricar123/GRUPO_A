{
 "cells": [
  {
   "cell_type": "code",
   "execution_count": 21,
   "metadata": {},
   "outputs": [
    {
     "name": "stdout",
     "output_type": "stream",
     "text": [
      "atleuv al rad ed abeurp anu se otse aloh\n"
     ]
    }
   ],
   "source": [
    "# ENTRADA DE DATOS Y BOTÓN DE ACEPTAR\n",
    "from tkinter import *\n",
    "# definimos objeto ventana dentro de la clase Tk\n",
    "ventana = Tk()\n",
    "ventana.title(\"\")\n",
    "ventana.geometry(\"600x300\")\n",
    "# definimos objeto etiqueta dentro del objeto ventana\n",
    "etiqueta1 = Label(ventana, text=\"HOLA MUNDO!\", width=20)\n",
    "etiqueta1.place(x=150, y=10)\n",
    "etiqueta2 = Label(ventana, text=\"¿Dime una pequeña frase?\", width=40)\n",
    "etiqueta2.place(x=0, y=100)\n",
    "# definimos objeto de entrada de texto\n",
    "entrada= Entry(ventana,width=80)\n",
    "entrada.place(x=10,y=150)\n",
    "\n",
    "# generamos una funcion  \n",
    "def clicleado():\n",
    "    #cadena=\"hola mundo\"\n",
    "    cadena= entrada.get()\n",
    "    print(inversa(cadena))\n",
    "    etiqueta3 = Label(ventana, text=inversa(cadena), width=80)\n",
    "    etiqueta3.place(x=30, y=180)\n",
    "    \n",
    "def inversa (cadena):\n",
    "    invertida = \"\"\n",
    "    cont = len(cadena)\n",
    "    indice = -1\n",
    "    while cont >= 1:\n",
    "        invertida += cadena[indice]\n",
    "        indice = indice + (-1)\n",
    "        cont -= 1\n",
    "    return invertida\n",
    "    \n",
    "        \n",
    "    \n",
    "# definimos un objeto botón dentro del objeto ventana con varios parámetros\n",
    "boton = Button(ventana, text=\"DELETREAR\",width=20,bg=\"black\",fg=\"red\",command=clicleado)\n",
    "boton.place(x=150,y=120)\n",
    "ventana.mainloop()"
   ]
  },
  {
   "cell_type": "code",
   "execution_count": 10,
   "metadata": {},
   "outputs": [
    {
     "name": "stdout",
     "output_type": "stream",
     "text": [
      "0 -  E\n",
      "1 -  L\n",
      "2 -   \n",
      "3 -  C\n",
      "4 -  I\n",
      "5 -  E\n",
      "6 -  L\n",
      "7 -  O\n",
      "8 -   \n",
      "9 -  E\n",
      "10 -  S\n",
      "11 -  T\n",
      "12 -  A\n",
      "13 -   \n",
      "14 -  E\n",
      "15 -  N\n",
      "16 -  C\n",
      "17 -  A\n",
      "18 -  P\n",
      "19 -  O\n",
      "20 -  T\n",
      "21 -  A\n",
      "22 -  D\n",
      "23 -  O\n"
     ]
    }
   ],
   "source": [
    "frase=\"EL CIELO ESTA ENCAPOTADO\"\n",
    "def respuesta():\n",
    "    for posición,letra in enumerate(frase):\n",
    "        print (posición,\"- \",letra)\n",
    "respuesta()"
   ]
  },
  {
   "cell_type": "code",
   "execution_count": null,
   "metadata": {},
   "outputs": [],
   "source": []
  }
 ],
 "metadata": {
  "kernelspec": {
   "display_name": "Python 3",
   "language": "python",
   "name": "python3"
  },
  "language_info": {
   "codemirror_mode": {
    "name": "ipython",
    "version": 3
   },
   "file_extension": ".py",
   "mimetype": "text/x-python",
   "name": "python",
   "nbconvert_exporter": "python",
   "pygments_lexer": "ipython3",
   "version": "3.7.0"
  }
 },
 "nbformat": 4,
 "nbformat_minor": 2
}
